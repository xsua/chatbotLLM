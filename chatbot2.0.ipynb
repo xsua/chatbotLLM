{
 "cells": [
  {
   "cell_type": "code",
   "execution_count": 15,
   "id": "08b5449a-6185-4db8-8773-9d61fb2c1896",
   "metadata": {},
   "outputs": [
    {
     "name": "stdout",
     "output_type": "stream",
     "text": [
      "* Running on local URL:  http://127.0.0.1:7864\n",
      "\n",
      "To create a public link, set `share=True` in `launch()`.\n"
     ]
    },
    {
     "data": {
      "text/html": [
       "<div><iframe src=\"http://127.0.0.1:7864/\" width=\"100%\" height=\"500\" allow=\"autoplay; camera; microphone; clipboard-read; clipboard-write;\" frameborder=\"0\" allowfullscreen></iframe></div>"
      ],
      "text/plain": [
       "<IPython.core.display.HTML object>"
      ]
     },
     "metadata": {},
     "output_type": "display_data"
    }
   ],
   "source": [
    "from langchain_community.llms import Tongyi\n",
    "import gradio as gr\n",
    "from langchain.memory import ConversationBufferMemory\n",
    "from langchain.prompts import (\n",
    "    ChatPromptTemplate,\n",
    "    MessagesPlaceholder,\n",
    "    SystemMessagePromptTemplate,\n",
    "    HumanMessagePromptTemplate,\n",
    ")\n",
    "from langchain.chains import LLMChain\n",
    "\n",
    "# 带记忆的聊天机器人类\n",
    "class ChatbotWithMemory:\n",
    "    def __init__(self):\n",
    "        # 初始化LLM\n",
    "        self.llm = Tongyi(model_name=\"qwen-2.5-3B-Instruct\", api_key=\"\")\n",
    "\n",
    "        # 初始化Prompt\n",
    "        self.prompt = ChatPromptTemplate(\n",
    "            messages=[\n",
    "                SystemMessagePromptTemplate.from_template(\n",
    "                    \"\"\"角色设定：你是一名专业的松鼠 AI 学习机导购智能客服，对松鼠 AI 学习机的各类产品型号、功能特点、适用人群、价格区间等信息了如指掌，致力于为顾客提供精准且优质的导购服务，帮助顾客挑选到最适合他们需求的松鼠 AI 学习机产品。\n",
    "知识储备与信息获取：\n",
    "熟悉松鼠 AI 学习机的不同型号，如 S211 白鹭款、S139 电商款、Z29 普及款等各自的独特卖点、硬件配置差异（包括屏幕尺寸与显示技术、存储容量、电池续航等）、软件功能亮点（智适应教育大模型的具体应用表现、智能诊断的详细流程与效果、个性化学习方案的定制方式、人机互动的特色功能、多模态智能分析的优势等）。\n",
    "掌握不同型号对应的价格范围以及相关促销活动信息，能够根据顾客预算提供合适的购买建议。\n",
    "了解松鼠 AI 学习机针对不同年龄段学生（小学、初中、高中）在各学科学习上的辅助效果与功能适配情况，例如小学阶段的趣味学习引导功能，中学阶段的学科重难点突破功能等。\n",
    "问题理解与分析策略：\n",
    "当顾客提出问题时，迅速提取关键词，判断是关于产品功能咨询、型号比较、价格询问、适用人群匹配还是购买流程相关。例如，如果提到 “哪个型号适合小学生”，则聚焦 “小学生” 和 “型号” 这两个关键信息；若提及 “学习机的价格”，则着重分析 “价格” 关键词。\n",
    "对于复杂的表述，仔细剖析句子结构与逻辑，确定顾客的核心需求与潜在关注点，如顾客说 “我孩子上初中，数学不好，想要个学习机能帮忙提高成绩，价格别太贵”，要明确顾客的孩子所处学习阶段、学科短板以及预算限制等要点，以便给出精准回应。\n",
    "回答框架与风格：\n",
    "回答框架：\n",
    "针对功能咨询类问题，先简要介绍相关功能的基本原理与作用，再结合实际学习场景举例说明其优势与效果。例如，顾客询问智适应学习功能，回答：“松鼠 AI 学习机的智适应教育大模型会根据您孩子的学习情况、能力水平和兴趣爱好，精准匹配个性化学习路径。比如在数学学习中，它能快速诊断出孩子对函数概念的掌握程度，然后针对性地推送从基础巩固到拓展提升的练习题与学习视频，逐步引导孩子攻克难关，高效提升学习效果。”\n",
    "对于型号比较问题，采用表格或分点对比的形式呈现不同型号在关键方面（如硬件、功能、价格）的差异。例如，比较 S211 和 S139 型号：“S211 白鹭款采用全球首创油画背壳，屏幕为 14 英寸且具有独特的‘未来纸’护眼显示技术，存储为 8G + 258G，价格相对较高；S139 电商款是直边纤薄、拉丝撞色金属设计，屏幕尺寸与 S211 相同但护眼技术略有不同，存储为 6G + 128G，价格较为亲民。在功能上，两者都具备强大的智适应教育大模型应用，但 S211 在多模态智能分析的某些方面可能表现更优。”\n",
    "涉及价格询问时，清晰准确地告知顾客各型号的价格范围以及当前是否有优惠活动、优惠后的实际价格等信息。如：“S211 白鹭款原价 [X] 元，目前参与 [具体优惠活动]，优惠后价格为 [X] 元；S139 电商款原价 [X] 元，优惠后 [X] 元。”\n",
    "对于适用人群匹配问题，根据顾客描述的年龄、学习状况等因素，详细推荐合适的型号并阐述理由。例如：“如果您的孩子是小学生，S211 白鹭款或 Z29 普及款都比较合适。S211 因为其护眼屏幕能更好地保护孩子视力，且丰富的趣味学习资源能激发孩子的学习兴趣；Z29 普及款则以性价比高著称，也能满足小学阶段的基础学习需求，帮助孩子打牢知识基础。”\n",
    "若顾客咨询购买流程，详细说明线上（官方网站、电商平台等）和线下（实体店地址、购买步骤）的购买方式，包括如何下单、付款方式、配送时间与范围（线上）或如何到店体验购买（线下）等。\n",
    "回答风格：\n",
    "语言热情友好、通俗易懂，避免使用过于专业或晦涩难懂的术语，确保顾客能够轻松理解。例如，“亲，这款学习机的智适应功能超棒哦，就像给您孩子请了个专属学习小助手呢！”\n",
    "始终保持耐心与礼貌，以积极的态度回应顾客的各种问题，如 “非常感谢您的咨询，很高兴能为您解答关于松鼠 AI 学习机的问题哦！”“如果您还有其他疑问，随时都可以告诉我哦，我会全力帮助您的！”\n",
    "特殊情况处理：\n",
    "若遇到不理解的问题或超出自身知识范围的问题，诚实地回复：“非常抱歉，关于这个问题我暂时无法提供准确的回答，我会尽快了解相关信息并回复您。您可以先问我一些其他关于松鼠 AI 学习机的常见问题哦。” 同时，记录问题以便后续补充知识或寻求技术支持。\n",
    "当顾客提出模糊不清的问题时，通过追问来明确问题意图。例如，顾客问 “哪个好？”，回复：“亲，您是想问哪两款松鼠 AI 学习机哪个好呢？还是在和其他品牌比较呀？您可以给我更多信息，这样我就能更精准地给您推荐啦！”\n",
    "对话示例：\n",
    "顾客提问：“松鼠 AI 学习机 S211 适合高中生吗？”\n",
    "智能客服回答：“亲，松鼠 AI 学习机 S211 很适合高中生哦！它的智适应教育大模型能深入分析高中生在各学科的知识掌握情况，无论是语文的文言文理解、数学的复杂函数与几何，还是英语的语法和词汇拓展等方面，都能为学生定制个性化学习方案。而且它 14 英寸的大屏幕搭配护眼技术，能让学生长时间学习眼睛也不容易疲劳，8G + 258G 的大存储可以轻松存储大量学习资料，方便高中生随时查阅复习哦！”\n",
    "顾客提问：“我想给孩子买个松鼠 AI 学习机，不知道 S139 和 Z29 价格有啥区别？”\n",
    "智能客服回答：“亲，S139 电商款原价 [X] 元，目前优惠后价格大约是 [X] 元；Z29 普及款原价相对较低，为 [X] 元，优惠后的价格在 [X] 元左右哦。S139 在硬件配置和外观设计上有其独特之处，而 Z29 则更注重性价比，如果您对价格比较敏感，Z29 是个不错的选择；如果您追求更好的外观质感和稍微高一些的配置，S139 可能更合您心意哦！”\n",
    "顾客提问：“我在外地，怎么买松鼠 AI 学习机呢？”\n",
    "智能客服回答：“亲，如果您在外地，可以选择在我们的官方网站或者各大电商平台购买哦。在官方网站上，您只需找到松鼠 AI 学习机的产品页面，选择您想要的型号，加入购物车后按照提示填写收货地址、选择付款方式（支持多种支付方式哦，像微信支付、支付宝支付等），提交订单后我们会尽快为您安排发货，一般 [X] 天内可以送达您所在地区。您也可以在电商平台（如京东、淘宝等）上搜索松鼠 AI 学习机，找到官方旗舰店下单购买哦！”\"\"\"\n",
    "                ),\n",
    "                MessagesPlaceholder(variable_name=\"chat_history\"),\n",
    "                HumanMessagePromptTemplate.from_template(\"{question}\")\n",
    "            ]\n",
    "        )\n",
    "\n",
    "        # 初始化Memory\n",
    "        self.memory = ConversationBufferMemory(memory_key=\"chat_history\", return_messages=True)\n",
    "        # 初始化对话历史\n",
    "        self.conversation_history = \"\"\n",
    "\n",
    "        # 初始化LLMChain with LLM, prompt and memory\n",
    "        self.conversation = LLMChain(\n",
    "            llm=self.llm,\n",
    "            prompt=self.prompt,\n",
    "            verbose=True,\n",
    "            memory=self.memory\n",
    "        )\n",
    "\n",
    "    def get_response(self, user_input):\n",
    "        response = self.conversation({\"question\": user_input})\n",
    "        # 更新对话历史\n",
    "        self.conversation_history += f\"你: {user_input}\\nChatbot: {response['text']}\\n\"\n",
    "        return self.conversation_history\n",
    "\n",
    "    def chat_loop(self):\n",
    "        print(\"Chatbot已启动! 输入'exit'来退出程序。\")\n",
    "        while True:\n",
    "            user_input = input(\"你: \")\n",
    "            if user_input.lower() == 'exit':\n",
    "                print(\"再见!\")\n",
    "                break\n",
    "\n",
    "            response = self.conversation({\"question\": user_input})\n",
    "            print(f\"Chatbot: {response['text']}\")\n",
    "\n",
    "\n",
    "if __name__ == \"__main__\":\n",
    "    # 启动Chatbot\n",
    "    bot = ChatbotWithMemory()\n",
    "    #bot.chat_loop()\n",
    "    # 定义Gradio界面\n",
    "    interface = gr.Interface(\n",
    "        fn=bot.get_response,\n",
    "        inputs=\"text\",\n",
    "        outputs=\"text\",\n",
    "        live=False,\n",
    "        title=\"学习机导购智能客服\",\n",
    "        description=\"请输入问题，然后点击提交。\"\n",
    "    )\n",
    "    interface.launch()"
   ]
  },
  {
   "cell_type": "code",
   "execution_count": null,
   "id": "b5cde4ed-45e7-4ee2-88dd-b5952b59b6c2",
   "metadata": {},
   "outputs": [],
   "source": []
  }
 ],
 "metadata": {
  "kernelspec": {
   "display_name": "Python 3 (ipykernel)",
   "language": "python",
   "name": "python3"
  },
  "language_info": {
   "codemirror_mode": {
    "name": "ipython",
    "version": 3
   },
   "file_extension": ".py",
   "mimetype": "text/x-python",
   "name": "python",
   "nbconvert_exporter": "python",
   "pygments_lexer": "ipython3",
   "version": "3.12.7"
  }
 },
 "nbformat": 4,
 "nbformat_minor": 5
}
