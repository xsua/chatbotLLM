{
 "cells": [
  {
   "cell_type": "code",
   "execution_count": null,
   "id": "9c48e9cf-464a-4e3e-aaca-6a2ae401103d",
   "metadata": {},
   "outputs": [],
   "source": [
    "# 导入所需的库和模块\n",
    "from langchain_community.llms import Tongyi\n",
    "\n",
    "# 定义一个命令行聊天机器人的类\n",
    "class CommandlineChatbot:\n",
    "    # 在初始化时，设置教育培训老师的角色并初始化聊天模型\n",
    "    def __init__(self):\n",
    "        self.chat =Tongyi(model_name=\"qwen-2.5-3B-Instruct\", api_key=\"\")\n",
    "        self.messages = [ {\n",
    "        \"role\": \"system\",\n",
    "        \"content\": \"你是一个教育培训老师。\"\n",
    "    }]\n",
    "\n",
    "    # 定义一个循环来持续与用户交互\n",
    "    def chat_loop(self):\n",
    "        print(\"Chatbot 已启动! 输入'exit'来退出程序。\")\n",
    "        while True:\n",
    "            user_input = input(\"你: \")\n",
    "            # 如果用户输入“exit”，则退出循环\n",
    "            if user_input.lower() == 'exit':\n",
    "                print(\"再见!\")\n",
    "                break\n",
    "            # 将用户的输入添加到消息列表中，并获取机器人的响应\n",
    "            self.messages.append({\"role\": \"user\", \"content\": user_input})\n",
    "            user_input_text = self.messages[-1][\"content\"]\n",
    "            response = self.chat.generate([user_input_text])\n",
    "            #response = self.chat(self.messages)\n",
    "            print(f\"Chatbot: {response.generations[0][0].text}\")\n",
    "\n",
    "# 如果直接运行这个脚本，启动聊天机器人\n",
    "if __name__ == \"__main__\":\n",
    "    bot = CommandlineChatbot()\n",
    "    bot.chat_loop()"
   ]
  }
 ],
 "metadata": {
  "kernelspec": {
   "display_name": "Python 3 (ipykernel)",
   "language": "python",
   "name": "python3"
  },
  "language_info": {
   "codemirror_mode": {
    "name": "ipython",
    "version": 3
   },
   "file_extension": ".py",
   "mimetype": "text/x-python",
   "name": "python",
   "nbconvert_exporter": "python",
   "pygments_lexer": "ipython3",
   "version": "3.12.7"
  }
 },
 "nbformat": 4,
 "nbformat_minor": 5
}
