{
 "cells": [
  {
   "cell_type": "code",
   "execution_count": null,
   "id": "1fcb0abe-f754-41af-95ff-f31bef5d52f7",
   "metadata": {},
   "outputs": [
    {
     "name": "stdout",
     "output_type": "stream",
     "text": [
      "模型输出：\n",
      "\n"
     ]
    },
    {
     "name": "stdin",
     "output_type": "stream",
     "text": [
      "请输入： 孩子不爱学习数学怎么办\n"
     ]
    },
    {
     "name": "stdout",
     "output_type": "stream",
     "text": [
      "模型输出：孩子不爱学习数学是许多家长关心的问题，下面是一些可能有帮助的建议：\n",
      "\n",
      "1. 确保兴趣：了解孩子为什么不喜欢数学，并尝试找到他们感兴趣的话题或活动。例如，如果孩子喜欢游戏，可以尝试将数学概念融入游戏中。\n",
      "\n",
      "2. 互动式学习：尝试通过实际生活中的例子来解释数学概念。例如，使用购物时的价格比较来解释加法和减法的概念；使用测量工具来讲解长度和面积等概念。这样可以使数学变得更加有趣和实用。\n",
      "\n",
      "3. 创设积极的学习环境：鼓励孩子在学习过程中探索和犯错。当孩子遇到困难时，不要急于给出答案，而是引导他们思考解决问题的方法。这样可以帮助孩子建立自信心，并培养解决问题的能力。\n",
      "\n",
      "4. 分享成功的故事：向孩子讲述一些成功解决数学难题的人的故事，以激励他们学习数学。同时也可以分享一些孩子自己成功解决问题的经历，让他们看到自己的努力是有价值的。\n",
      "\n",
      "5. 鼓励多做练习：数学需要不断练习才能掌握。鼓励孩子多做练习题，可以参加一些数学竞赛或者找一些适合孩子的数学书籍进行阅读。\n",
      "\n",
      "6. 寻求专业帮助：如果孩子仍然对数学感到困惑，可以寻求专业的辅导老师或者参加一些专门针对数学的辅导班。专业的老师能够更系统地帮助孩子解决数学问题，提高学习效果。\n",
      "\n",
      "最重要的是要耐心与孩子沟通，理解他们的需求，并给予适当的指导和支持。通过这些方法，希望能帮助您的孩子克服对数学的抵触情绪，激发他们的学习兴趣。\n",
      "\n",
      "\n"
     ]
    },
    {
     "name": "stdin",
     "output_type": "stream",
     "text": [
      "请输入： 我的孩子爱学习数学吗\n"
     ]
    },
    {
     "name": "stdout",
     "output_type": "stream",
     "text": [
      "模型输出：了解孩子是否喜欢学习数学是非常重要的，这有助于你更好地支持他们的学习。以下是一些判断孩子是否喜欢学习数学的方法：\n",
      "\n",
      "1. **观察日常行为**：\n",
      "   - 当讨论数学问题时，孩子是否表现出积极的兴趣和好奇心？\n",
      "   - 孩子是否经常主动提出与数学相关的问题？\n",
      "   - 在完成数学作业时，孩子是否显得轻松愉快，而不是焦虑不安？\n",
      "\n",
      "2. **检查作业态度**：\n",
      "   - 孩子完成数学作业是否积极主动？\n",
      "   - 是否经常主动要求额外的数学练习题？\n",
      "   - 在数学课上是否积极参与课堂讨论？\n",
      "\n",
      "3. **关注课外活动**：\n",
      "   - 孩子是否参加数学俱乐部或其他数学相关的课外活动？\n",
      "   - 是否对数学比赛或竞赛感兴趣？\n",
      "   - 在社交场合中，是否经常谈论数学话题？\n",
      "\n",
      "4. **观察情绪变化**：\n",
      "   - 孩子在学习数学时是否有积极的情绪反应，如兴奋或满足？\n",
      "   - 是否因为解出一道难题而感到自豪？\n",
      "   - 是否因为数学成绩进步而感到高兴？\n",
      "\n",
      "5. **评估自我评价**：\n",
      "   - 孩子是否会自我表扬自己的数学成绩？\n",
      "   - 是否会说“我喜欢数学”或“我对数学很感兴趣”？\n",
      "   - 是否经常提到数学中的某些知识点？\n",
      "\n",
      "如果孩子表现出上述积极的行为和态度，那么他们很可能喜欢学习数学。当然，每个孩子的兴趣和喜好都是独一无二的，因此重要的是要倾听并尊重他们的感受。如果你对孩子的情况不确定，也可以考虑寻求教师或专业人士的意见，以便更全面地了解孩子的学习情况。\n",
      "\n",
      "\n"
     ]
    }
   ],
   "source": [
    "import os\n",
    "from dashscope import Generation\n",
    "\n",
    "def get_response(messages):\n",
    "    response = Generation.call(\n",
    "        # 若没有配置环境变量，请用百炼API Key将下行替换为：api_key=\"sk-xxx\",\n",
    "        api_key=\"sk-9355a718d0f547fb88fb9d930f2bf33b\", \n",
    "        model=\"qwen2.5-3b-instruct\",\n",
    "        messages=messages,\n",
    "        result_format=\"message\",\n",
    "    )\n",
    "    return response\n",
    "\n",
    "\n",
    "messages = [\n",
    "    {\n",
    "        \"role\": \"system\",\n",
    "        \"content\": \"你是一名专业的教育行业智能客服机器人，旨在为学生、家长和教育工作者提供全面、准确且友好的咨询服务。你需要依据自身丰富的教育知识和经验，对各类教育相关问题做出清晰、详细的回应。\"\n",
    "    }\n",
    "]\n",
    "\n",
    "assistant_output = \"\"\n",
    "print(f\"模型输出：{assistant_output}\\n\")\n",
    "while True:\n",
    "    user_input = input(\"请输入：\")\n",
    "    if user_input.lower() == 'exit':\n",
    "        print(\"再见!\")\n",
    "        break  \n",
    "    # 将用户问题信息添加到messages列表中\n",
    "    messages.append({\"role\": \"user\", \"content\": user_input})\n",
    "    assistant_output = get_response(messages).output.choices[0].message.content\n",
    "    # 将大模型的回复信息添加到messages列表中\n",
    "    messages.append({\"role\": \"assistant\", \"content\": assistant_output})\n",
    "    print(f\"模型输出：{assistant_output}\")\n",
    "    print(\"\\n\")"
   ]
  },
  {
   "cell_type": "code",
   "execution_count": null,
   "id": "9c48e9cf-464a-4e3e-aaca-6a2ae401103d",
   "metadata": {},
   "outputs": [],
   "source": []
  }
 ],
 "metadata": {
  "kernelspec": {
   "display_name": "Python 3 (ipykernel)",
   "language": "python",
   "name": "python3"
  },
  "language_info": {
   "codemirror_mode": {
    "name": "ipython",
    "version": 3
   },
   "file_extension": ".py",
   "mimetype": "text/x-python",
   "name": "python",
   "nbconvert_exporter": "python",
   "pygments_lexer": "ipython3",
   "version": "3.12.7"
  }
 },
 "nbformat": 4,
 "nbformat_minor": 5
}
